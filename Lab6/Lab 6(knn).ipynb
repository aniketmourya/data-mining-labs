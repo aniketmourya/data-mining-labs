{
 "cells": [
  {
   "cell_type": "markdown",
   "metadata": {},
   "source": [
    "# K-Nearest Neighbour\n",
    "\n",
    "\n",
    "K nearest neighbors is a simple algorithm that stores all available cases and classifies new cases based on a similarity measure (e.g., distance functions). A new record is classified by a majority vote of its neighbors, with the case being assigned to the class most common amongst its K nearest neighbors measured by a distance function. If K = 1, then the case is simply assigned to the class of its nearest neighbor. \n",
    "\n",
    "Suppose you want to find out the class of the blue star (BS) in the image below. BS can either be RC or GS. The “K” is KNN algorithm is the nearest neighbor we wish to take the vote from. Let’s say K = 3. Hence, we will now make a circle with BS as the center just as big as to enclose only three datapoints on the plane. The three closest points to BS is all RC. Hence, with a good confidence level, we can say that the BS should belong to the class RC. Here, the choice became very obvious as all three votes from the closest neighbor went to RC. The choice of the parameter K is very crucial in this algorithm.\n",
    "\n",
    "<img src=\"img1.png\">\n",
    "\n",
    "The distance functions used for Numeric fields are given below:\n",
    "<img src=\"img2.png\">"
   ]
  },
  {
   "cell_type": "markdown",
   "metadata": {},
   "source": [
    "### Libraries useful in K-NN are listed below"
   ]
  },
  {
   "cell_type": "raw",
   "metadata": {},
   "source": [
    "To load dataset:    import pandas as pd\n",
    "K-NN Classifier:    from sklearn.neighbors import KNeighborsClassifier\n",
    "Train & Test Split: from sklearn.model_selection import train_test_split\n",
    "\n",
    "For Prediction and Evaluation\n",
    "\n",
    "from sklearn.metrics import classification_report,confusion_matrix\n",
    "from sklearn.metrics import accuracy_score\n"
   ]
  },
  {
   "cell_type": "markdown",
   "metadata": {},
   "source": [
    "### Get The Data. Load data \"spambase_data.csv\""
   ]
  },
  {
   "cell_type": "code",
   "execution_count": 1,
   "metadata": {},
   "outputs": [
    {
     "data": {
      "text/html": [
       "<div>\n",
       "<style scoped>\n",
       "    .dataframe tbody tr th:only-of-type {\n",
       "        vertical-align: middle;\n",
       "    }\n",
       "\n",
       "    .dataframe tbody tr th {\n",
       "        vertical-align: top;\n",
       "    }\n",
       "\n",
       "    .dataframe thead th {\n",
       "        text-align: right;\n",
       "    }\n",
       "</style>\n",
       "<table border=\"1\" class=\"dataframe\">\n",
       "  <thead>\n",
       "    <tr style=\"text-align: right;\">\n",
       "      <th></th>\n",
       "      <th>0</th>\n",
       "      <th>1</th>\n",
       "      <th>2</th>\n",
       "      <th>3</th>\n",
       "      <th>4</th>\n",
       "      <th>5</th>\n",
       "      <th>6</th>\n",
       "      <th>7</th>\n",
       "      <th>8</th>\n",
       "      <th>9</th>\n",
       "      <th>...</th>\n",
       "      <th>48</th>\n",
       "      <th>49</th>\n",
       "      <th>50</th>\n",
       "      <th>51</th>\n",
       "      <th>52</th>\n",
       "      <th>53</th>\n",
       "      <th>54</th>\n",
       "      <th>55</th>\n",
       "      <th>56</th>\n",
       "      <th>57</th>\n",
       "    </tr>\n",
       "  </thead>\n",
       "  <tbody>\n",
       "    <tr>\n",
       "      <th>0</th>\n",
       "      <td>0.00</td>\n",
       "      <td>0.64</td>\n",
       "      <td>0.64</td>\n",
       "      <td>0.0</td>\n",
       "      <td>0.32</td>\n",
       "      <td>0.00</td>\n",
       "      <td>0.00</td>\n",
       "      <td>0.00</td>\n",
       "      <td>0.00</td>\n",
       "      <td>0.00</td>\n",
       "      <td>...</td>\n",
       "      <td>0.00</td>\n",
       "      <td>0.000</td>\n",
       "      <td>0.0</td>\n",
       "      <td>0.778</td>\n",
       "      <td>0.000</td>\n",
       "      <td>0.000</td>\n",
       "      <td>3.756</td>\n",
       "      <td>61</td>\n",
       "      <td>278</td>\n",
       "      <td>1</td>\n",
       "    </tr>\n",
       "    <tr>\n",
       "      <th>1</th>\n",
       "      <td>0.21</td>\n",
       "      <td>0.28</td>\n",
       "      <td>0.50</td>\n",
       "      <td>0.0</td>\n",
       "      <td>0.14</td>\n",
       "      <td>0.28</td>\n",
       "      <td>0.21</td>\n",
       "      <td>0.07</td>\n",
       "      <td>0.00</td>\n",
       "      <td>0.94</td>\n",
       "      <td>...</td>\n",
       "      <td>0.00</td>\n",
       "      <td>0.132</td>\n",
       "      <td>0.0</td>\n",
       "      <td>0.372</td>\n",
       "      <td>0.180</td>\n",
       "      <td>0.048</td>\n",
       "      <td>5.114</td>\n",
       "      <td>101</td>\n",
       "      <td>1028</td>\n",
       "      <td>1</td>\n",
       "    </tr>\n",
       "    <tr>\n",
       "      <th>2</th>\n",
       "      <td>0.06</td>\n",
       "      <td>0.00</td>\n",
       "      <td>0.71</td>\n",
       "      <td>0.0</td>\n",
       "      <td>1.23</td>\n",
       "      <td>0.19</td>\n",
       "      <td>0.19</td>\n",
       "      <td>0.12</td>\n",
       "      <td>0.64</td>\n",
       "      <td>0.25</td>\n",
       "      <td>...</td>\n",
       "      <td>0.01</td>\n",
       "      <td>0.143</td>\n",
       "      <td>0.0</td>\n",
       "      <td>0.276</td>\n",
       "      <td>0.184</td>\n",
       "      <td>0.010</td>\n",
       "      <td>9.821</td>\n",
       "      <td>485</td>\n",
       "      <td>2259</td>\n",
       "      <td>1</td>\n",
       "    </tr>\n",
       "    <tr>\n",
       "      <th>3</th>\n",
       "      <td>0.00</td>\n",
       "      <td>0.00</td>\n",
       "      <td>0.00</td>\n",
       "      <td>0.0</td>\n",
       "      <td>0.63</td>\n",
       "      <td>0.00</td>\n",
       "      <td>0.31</td>\n",
       "      <td>0.63</td>\n",
       "      <td>0.31</td>\n",
       "      <td>0.63</td>\n",
       "      <td>...</td>\n",
       "      <td>0.00</td>\n",
       "      <td>0.137</td>\n",
       "      <td>0.0</td>\n",
       "      <td>0.137</td>\n",
       "      <td>0.000</td>\n",
       "      <td>0.000</td>\n",
       "      <td>3.537</td>\n",
       "      <td>40</td>\n",
       "      <td>191</td>\n",
       "      <td>1</td>\n",
       "    </tr>\n",
       "    <tr>\n",
       "      <th>4</th>\n",
       "      <td>0.00</td>\n",
       "      <td>0.00</td>\n",
       "      <td>0.00</td>\n",
       "      <td>0.0</td>\n",
       "      <td>0.63</td>\n",
       "      <td>0.00</td>\n",
       "      <td>0.31</td>\n",
       "      <td>0.63</td>\n",
       "      <td>0.31</td>\n",
       "      <td>0.63</td>\n",
       "      <td>...</td>\n",
       "      <td>0.00</td>\n",
       "      <td>0.135</td>\n",
       "      <td>0.0</td>\n",
       "      <td>0.135</td>\n",
       "      <td>0.000</td>\n",
       "      <td>0.000</td>\n",
       "      <td>3.537</td>\n",
       "      <td>40</td>\n",
       "      <td>191</td>\n",
       "      <td>1</td>\n",
       "    </tr>\n",
       "  </tbody>\n",
       "</table>\n",
       "<p>5 rows × 58 columns</p>\n",
       "</div>"
      ],
      "text/plain": [
       "     0     1     2    3     4     5     6     7     8     9   ...    48  \\\n",
       "0  0.00  0.64  0.64  0.0  0.32  0.00  0.00  0.00  0.00  0.00  ...  0.00   \n",
       "1  0.21  0.28  0.50  0.0  0.14  0.28  0.21  0.07  0.00  0.94  ...  0.00   \n",
       "2  0.06  0.00  0.71  0.0  1.23  0.19  0.19  0.12  0.64  0.25  ...  0.01   \n",
       "3  0.00  0.00  0.00  0.0  0.63  0.00  0.31  0.63  0.31  0.63  ...  0.00   \n",
       "4  0.00  0.00  0.00  0.0  0.63  0.00  0.31  0.63  0.31  0.63  ...  0.00   \n",
       "\n",
       "      49   50     51     52     53     54   55    56  57  \n",
       "0  0.000  0.0  0.778  0.000  0.000  3.756   61   278   1  \n",
       "1  0.132  0.0  0.372  0.180  0.048  5.114  101  1028   1  \n",
       "2  0.143  0.0  0.276  0.184  0.010  9.821  485  2259   1  \n",
       "3  0.137  0.0  0.137  0.000  0.000  3.537   40   191   1  \n",
       "4  0.135  0.0  0.135  0.000  0.000  3.537   40   191   1  \n",
       "\n",
       "[5 rows x 58 columns]"
      ]
     },
     "execution_count": 1,
     "metadata": {},
     "output_type": "execute_result"
    }
   ],
   "source": [
    "import pandas as pd\n",
    "df = pd.read_csv('spambase_data.csv',header =None)\n",
    "df.head() # used to display top 5 rows"
   ]
  },
  {
   "cell_type": "markdown",
   "metadata": {},
   "source": [
    "### Train and Test Split"
   ]
  },
  {
   "cell_type": "code",
   "execution_count": 2,
   "metadata": {},
   "outputs": [],
   "source": [
    "X = df[df.columns[:-1]] # Selecting the independent variables\n",
    "Y=df[df.columns[len(df.columns)-1]] # selecting only the target lableled column"
   ]
  },
  {
   "cell_type": "markdown",
   "metadata": {},
   "source": [
    "#### Obtain X_train, X_test, Y_train, Y_test by splitting the dataset into 70-30 ratio with a random state value 30.\n",
    "\n",
    "Note: random_state is used to control the shuffling in the split of the dataset.\n",
    "\n",
    "This method is called the Hold Out Method."
   ]
  },
  {
   "cell_type": "code",
   "execution_count": 3,
   "metadata": {},
   "outputs": [],
   "source": [
    "from sklearn.model_selection import train_test_split\n",
    "X_train, X_test, Y_train, Y_test = train_test_split(X, Y, test_size=0.30, random_state = 30)"
   ]
  },
  {
   "cell_type": "markdown",
   "metadata": {},
   "source": [
    "### Import the k-NN Classifier library"
   ]
  },
  {
   "cell_type": "code",
   "execution_count": 4,
   "metadata": {},
   "outputs": [],
   "source": [
    "from sklearn.neighbors import KNeighborsClassifier"
   ]
  },
  {
   "cell_type": "markdown",
   "metadata": {},
   "source": [
    "### Train 3-NN by using euclidean distance as distance measure"
   ]
  },
  {
   "cell_type": "code",
   "execution_count": 10,
   "metadata": {},
   "outputs": [
    {
     "data": {
      "text/plain": [
       "KNeighborsClassifier(metric='euclidean', n_neighbors=3)"
      ]
     },
     "execution_count": 10,
     "metadata": {},
     "output_type": "execute_result"
    }
   ],
   "source": [
    "knn=KNeighborsClassifier(n_neighbors=3, metric='euclidean')\n",
    "knn.fit(X_train, Y_train)"
   ]
  },
  {
   "cell_type": "markdown",
   "metadata": {},
   "source": [
    "### Prediction and Evaluation"
   ]
  },
  {
   "cell_type": "code",
   "execution_count": 11,
   "metadata": {},
   "outputs": [],
   "source": [
    "from sklearn.metrics import classification_report,confusion_matrix\n",
    "from sklearn.metrics import accuracy_score"
   ]
  },
  {
   "cell_type": "code",
   "execution_count": 12,
   "metadata": {},
   "outputs": [],
   "source": [
    "predictions = knn.predict(X_test)"
   ]
  },
  {
   "cell_type": "code",
   "execution_count": 13,
   "metadata": {},
   "outputs": [
    {
     "name": "stdout",
     "output_type": "stream",
     "text": [
      "              precision    recall  f1-score   support\n",
      "\n",
      "           0       0.83      0.85      0.84       863\n",
      "           1       0.74      0.72      0.73       518\n",
      "\n",
      "    accuracy                           0.80      1381\n",
      "   macro avg       0.79      0.78      0.78      1381\n",
      "weighted avg       0.80      0.80      0.80      1381\n",
      "\n",
      "Confusion Matrix\n",
      "[[730 133]\n",
      " [145 373]]\n",
      "\n",
      " Accuracy\n",
      "0.7986965966690803\n"
     ]
    }
   ],
   "source": [
    "print(classification_report(Y_test,predictions))\n",
    "print(\"Confusion Matrix\")\n",
    "print(confusion_matrix(Y_test,predictions))\n",
    "print(\"\\n Accuracy\")\n",
    "print(accuracy_score(Y_test,predictions))"
   ]
  },
  {
   "cell_type": "markdown",
   "metadata": {},
   "source": [
    "###  k (5)- fold method for training and testing split and check the difference in performance of 3-NN "
   ]
  },
  {
   "cell_type": "code",
   "execution_count": 14,
   "metadata": {},
   "outputs": [
    {
     "name": "stdout",
     "output_type": "stream",
     "text": [
      "scores:  [0.77090119 0.78586957 0.825      0.80543478 0.69456522]\n",
      "mean score:  0.7763541519142709\n"
     ]
    }
   ],
   "source": [
    "from sklearn.model_selection import cross_val_score\n",
    "knn_cv = KNeighborsClassifier(n_neighbors=3, metric = 'euclidean')\n",
    "scores = cross_val_score(knn_cv, X, Y, cv=5, scoring='accuracy')\n",
    "print('scores: ', scores)\n",
    "print('mean score: ', scores.mean())"
   ]
  },
  {
   "cell_type": "markdown",
   "metadata": {},
   "source": [
    "#### Q1: Normalize the dataset and apply 3-NN using both euclidean and manhattan distance"
   ]
  },
  {
   "cell_type": "code",
   "execution_count": 18,
   "metadata": {},
   "outputs": [],
   "source": [
    "#min-max normalization\n",
    "for col in df.columns[:-1]:\n",
    "    df[col]=(df[col]-df[col].min())/(df[col].max()-df[col].min())\n",
    "\n",
    "X=df[df.columns[:-1]] #selecting the independent variables\n",
    "Y = df[df.columns[len(df.columns)-1]] # selecting only the target lableled column"
   ]
  },
  {
   "cell_type": "code",
   "execution_count": 19,
   "metadata": {},
   "outputs": [
    {
     "name": "stdout",
     "output_type": "stream",
     "text": [
      "scores:  [0.8534202  0.88695652 0.90652174 0.90434783 0.73913043]\n",
      "mean score:  0.8580753434357741\n",
      "scores:  [0.86536374 0.90434783 0.90978261 0.89456522 0.75      ]\n",
      "mean score:  0.8648118774488976\n"
     ]
    }
   ],
   "source": [
    "knn_cv = KNeighborsClassifier(n_neighbors=3, metric = 'euclidean')\n",
    "scores = cross_val_score(knn_cv, X, Y, cv=5, scoring='accuracy')\n",
    "print('scores: ', scores)\n",
    "print('mean score: ', scores.mean())\n",
    "knn_cv = KNeighborsClassifier(n_neighbors=3, metric = 'manhattan')\n",
    "scores = cross_val_score(knn_cv, X, Y, cv=5, scoring='accuracy')\n",
    "print('scores: ', scores)\n",
    "print('mean score: ', scores.mean())"
   ]
  },
  {
   "cell_type": "markdown",
   "metadata": {},
   "source": [
    "#### Q2: Write your observation regarding change in the perfromance of KNN"
   ]
  },
  {
   "cell_type": "markdown",
   "metadata": {},
   "source": [
    "We get better accuracy after Normalization."
   ]
  },
  {
   "cell_type": "markdown",
   "metadata": {},
   "source": [
    "#### Q3: Find the accuracy of 1-NN model (using euclidean distance)"
   ]
  },
  {
   "cell_type": "code",
   "execution_count": 20,
   "metadata": {},
   "outputs": [
    {
     "name": "stdout",
     "output_type": "stream",
     "text": [
      "scores:  [0.86536374 0.8923913  0.91304348 0.90652174 0.75108696]\n",
      "mean score:  0.8656814426662891\n"
     ]
    }
   ],
   "source": [
    "knn_cv = KNeighborsClassifier(n_neighbors=1, metric = 'euclidean')\n",
    "scores = cross_val_score(knn_cv, X, Y, cv=5, scoring='accuracy')\n",
    "print('scores: ', scores)\n",
    "print('mean score: ', scores.mean())\n",
    "\n"
   ]
  },
  {
   "cell_type": "markdown",
   "metadata": {},
   "source": [
    "#### Q4: Find the accuracy of the models by taking k from 1 to 20. (Using euclidean distance and k(5)-fold method for train-test split)"
   ]
  },
  {
   "cell_type": "code",
   "execution_count": 25,
   "metadata": {},
   "outputs": [
    {
     "name": "stdout",
     "output_type": "stream",
     "text": [
      "The value of k is 1\n",
      "scores:  [0.86536374 0.8923913  0.91304348 0.90652174 0.75108696]\n",
      "mean score:  0.8656814426662891\n",
      "The value of k is 2\n",
      "scores:  [0.84256243 0.88804348 0.91413043 0.88152174 0.78586957]\n",
      "mean score:  0.8624255299060568\n",
      "The value of k is 3\n",
      "scores:  [0.8534202  0.88695652 0.90652174 0.90434783 0.73913043]\n",
      "mean score:  0.8580753434357741\n",
      "The value of k is 4\n",
      "scores:  [0.85233442 0.88586957 0.90869565 0.89456522 0.77608696]\n",
      "mean score:  0.8635103620828023\n",
      "The value of k is 5\n",
      "scores:  [0.86536374 0.89130435 0.91304348 0.89891304 0.75434783]\n",
      "mean score:  0.8645944861445498\n",
      "The value of k is 6\n",
      "scores:  [0.84690554 0.88478261 0.91413043 0.88804348 0.77391304]\n",
      "mean score:  0.8615550205353351\n",
      "The value of k is 7\n",
      "scores:  [0.86102063 0.88804348 0.91956522 0.90217391 0.76086957]\n",
      "mean score:  0.8663345607326631\n",
      "The value of k is 8\n",
      "scores:  [0.85559175 0.8826087  0.91195652 0.90217391 0.76521739]\n",
      "mean score:  0.8635096539678043\n",
      "The value of k is 9\n",
      "scores:  [0.85559175 0.88695652 0.91521739 0.90217391 0.76195652]\n",
      "mean score:  0.8643792191851958\n",
      "The value of k is 10\n",
      "scores:  [0.85233442 0.87934783 0.91304348 0.90543478 0.76956522]\n",
      "mean score:  0.8639451446914979\n",
      "The value of k is 11\n",
      "scores:  [0.85559175 0.88586957 0.91630435 0.90543478 0.75543478]\n",
      "mean score:  0.8637270452721522\n",
      "The value of k is 12\n",
      "scores:  [0.84364821 0.88043478 0.9076087  0.9076087  0.77065217]\n",
      "mean score:  0.8619905112590285\n",
      "The value of k is 13\n",
      "scores:  [0.84581976 0.88369565 0.91413043 0.90434783 0.7576087 ]\n",
      "mean score:  0.8611204739649718\n",
      "The value of k is 14\n",
      "scores:  [0.85124864 0.87934783 0.90652174 0.89673913 0.76956522]\n",
      "mean score:  0.8606845111646132\n",
      "The value of k is 15\n",
      "scores:  [0.84473398 0.8826087  0.90434783 0.90108696 0.76195652]\n",
      "mean score:  0.8589467969598262\n",
      "The value of k is 16\n",
      "scores:  [0.84147666 0.88369565 0.89673913 0.8923913  0.75978261]\n",
      "mean score:  0.8548170702922155\n",
      "The value of k is 17\n",
      "scores:  [0.84473398 0.875      0.89891304 0.89891304 0.7576087 ]\n",
      "mean score:  0.8550337534815654\n",
      "The value of k is 18\n",
      "scores:  [0.83821933 0.86847826 0.89673913 0.90217391 0.7673913 ]\n",
      "mean score:  0.8546003871028655\n",
      "The value of k is 19\n",
      "scores:  [0.84690554 0.86847826 0.90326087 0.90217391 0.76304348]\n",
      "mean score:  0.8567724118396829\n",
      "The value of k is 20\n",
      "scores:  [0.8393051  0.86630435 0.89891304 0.89565217 0.76195652]\n",
      "mean score:  0.8524262380210545\n"
     ]
    }
   ],
   "source": [
    "k_range = list(range(1, 21))\n",
    "k_scores = []\n",
    "for k in k_range:\n",
    "    knn_cv = KNeighborsClassifier(n_neighbors=k, metric = 'euclidean')\n",
    "    scores = cross_val_score(knn_cv, X, Y, cv=5, scoring='accuracy')\n",
    "    print(\"The value of k is \"+str(k))\n",
    "    print('scores: ', scores)\n",
    "    print('mean score: ', scores.mean())\n",
    "    k_scores.append(scores.mean())"
   ]
  },
  {
   "cell_type": "markdown",
   "metadata": {},
   "source": [
    "#### Q5: Plot the graph between k and the accuracy score and find the best value of k"
   ]
  },
  {
   "cell_type": "code",
   "execution_count": 26,
   "metadata": {},
   "outputs": [
    {
     "name": "stdout",
     "output_type": "stream",
     "text": [
      "maximum score:  0.8663345607326631\n",
      "Best K value:  7\n"
     ]
    },
    {
     "data": {
      "image/png": "[encoded data removed]",
      "text/plain": [
       "<Figure size 432x288 with 1 Axes>"
      ]
     },
     "metadata": {
      "needs_background": "light"
     },
     "output_type": "display_data"
    }
   ],
   "source": [
    "import matplotlib.pyplot as plt\n",
    "%matplotlib inline\n",
    "\n",
    "\n",
    "plt.plot(k_range, k_scores)\n",
    "plt.xlabel('Value of K for KNN')\n",
    "plt.ylabel('Cross-Validated Accuracy')\n",
    "print('maximum score: ', max(k_scores))\n",
    "#best_k=k_scores.index(max(k_scores))\n",
    "print('Best K value: ', k_scores.index(max(k_scores))+1)\n",
    "#print(k_range[best_k])"
   ]
  },
  {
   "cell_type": "markdown",
   "metadata": {},
   "source": [
    "#### Q6: Find the accuracy of the models by taking k from 1 to 20. (Using manhattan distance  k(5)-fold method for train-test split)"
   ]
  },
  {
   "cell_type": "code",
   "execution_count": 27,
   "metadata": {},
   "outputs": [
    {
     "name": "stdout",
     "output_type": "stream",
     "text": [
      "The value of k is 1\n",
      "scores:  [0.86862106 0.89456522 0.91195652 0.89565217 0.75543478]\n",
      "mean score:  0.8652459519425955\n",
      "The value of k is 2\n",
      "scores:  [0.85016287 0.88804348 0.90108696 0.875      0.81521739]\n",
      "mean score:  0.8659021385072936\n",
      "The value of k is 3\n",
      "scores:  [0.86536374 0.90434783 0.90978261 0.89456522 0.75      ]\n",
      "mean score:  0.8648118774488976\n",
      "The value of k is 4\n",
      "scores:  [0.86102063 0.89021739 0.91086957 0.87717391 0.79347826]\n",
      "mean score:  0.8665519520370107\n",
      "The value of k is 5\n",
      "scores:  [0.87187839 0.9        0.92282609 0.90108696 0.76630435]\n",
      "mean score:  0.8724191568710757\n",
      "The value of k is 6\n",
      "scores:  [0.85450597 0.89021739 0.92173913 0.89347826 0.78913043]\n",
      "mean score:  0.8698142378322238\n",
      "The value of k is 7\n",
      "scores:  [0.86753529 0.90108696 0.92717391 0.9        0.77282609]\n",
      "mean score:  0.8737244488504933\n",
      "The value of k is 8\n",
      "scores:  [0.85450597 0.88695652 0.91847826 0.89130435 0.80326087]\n",
      "mean score:  0.8709011943539631\n",
      "The value of k is 9\n",
      "scores:  [0.86319218 0.8923913  0.92934783 0.90326087 0.79673913]\n",
      "mean score:  0.8769862625690413\n",
      "The value of k is 10\n",
      "scores:  [0.85993485 0.88695652 0.92065217 0.88586957 0.80869565]\n",
      "mean score:  0.8724217532927347\n",
      "The value of k is 11\n",
      "scores:  [0.86536374 0.89021739 0.92391304 0.89891304 0.80543478]\n",
      "mean score:  0.8767683991880281\n",
      "The value of k is 12\n",
      "scores:  [0.85233442 0.88152174 0.91630435 0.88804348 0.80978261]\n",
      "mean score:  0.8695973186045414\n",
      "The value of k is 13\n",
      "scores:  [0.86210641 0.88804348 0.92065217 0.89782609 0.80869565]\n",
      "mean score:  0.8754647594769391\n",
      "The value of k is 14\n",
      "scores:  [0.85124864 0.87826087 0.91195652 0.89347826 0.8076087 ]\n",
      "mean score:  0.8685105981211348\n",
      "The value of k is 15\n",
      "scores:  [0.8577633  0.88152174 0.91956522 0.9        0.8       ]\n",
      "mean score:  0.8717700514563566\n",
      "The value of k is 16\n",
      "scores:  [0.84581976 0.87391304 0.91413043 0.89456522 0.81195652]\n",
      "mean score:  0.8680769957041023\n",
      "The value of k is 17\n",
      "scores:  [0.85450597 0.88152174 0.91956522 0.90108696 0.81086957]\n",
      "mean score:  0.873509890006137\n",
      "The value of k is 18\n",
      "scores:  [0.85233442 0.87173913 0.91086957 0.88913043 0.80978261]\n",
      "mean score:  0.8667712316480196\n",
      "The value of k is 19\n",
      "scores:  [0.8577633  0.87826087 0.91413043 0.9        0.80652174]\n",
      "mean score:  0.871335268847661\n",
      "The value of k is 20\n",
      "scores:  [0.84799131 0.87391304 0.90543478 0.89021739 0.8076087 ]\n",
      "mean score:  0.8650330453665676\n"
     ]
    }
   ],
   "source": [
    "k_range = list(range(1, 21))\n",
    "k_scores = []\n",
    "for k in k_range:\n",
    "    knn_cv = KNeighborsClassifier(n_neighbors=k, metric = 'manhattan')\n",
    "    scores = cross_val_score(knn_cv, X, Y, cv=5, scoring='accuracy')\n",
    "    print(\"The value of k is \"+str(k))\n",
    "    print('scores: ', scores)\n",
    "    print('mean score: ', scores.mean())\n",
    "    k_scores.append(scores.mean())"
   ]
  },
  {
   "cell_type": "markdown",
   "metadata": {},
   "source": [
    "#### Q7:  Plot the graph between k and the accuracy score and find the best value of k"
   ]
  },
  {
   "cell_type": "code",
   "execution_count": 28,
   "metadata": {},
   "outputs": [
    {
     "name": "stdout",
     "output_type": "stream",
     "text": [
      "maximum score:  0.8769862625690413\n",
      "Best K value:  9\n"
     ]
    },
    {
     "data": {
      "image/png": "[encoded data removed]",
      "text/plain": [
       "<Figure size 432x288 with 1 Axes>"
      ]
     },
     "metadata": {
      "needs_background": "light"
     },
     "output_type": "display_data"
    }
   ],
   "source": [
    "import matplotlib.pyplot as plt\n",
    "%matplotlib inline\n",
    "\n",
    "\n",
    "plt.plot(k_range, k_scores)\n",
    "plt.xlabel('Value of K for KNN')\n",
    "plt.ylabel('Cross-Validated Accuracy')\n",
    "print('maximum score: ', max(k_scores))\n",
    "#best_k=k_scores.index(max(k_scores))\n",
    "print('Best K value: ', k_scores.index(max(k_scores))+1)\n",
    "#print(k_range[best_k])"
   ]
  },
  {
   "cell_type": "markdown",
   "metadata": {},
   "source": [
    "#### Q8: Write your observation"
   ]
  },
  {
   "cell_type": "code",
   "execution_count": 34,
   "metadata": {},
   "outputs": [],
   "source": [
    "# While using Euclidean distance, maximum score:  0.8663345607326631 and Best K value:  7\n",
    "# While using Manhattan distance, maximum score:  0.8769862625690413 and Best K value:  9"
   ]
  },
  {
   "cell_type": "markdown",
   "metadata": {},
   "source": [
    "#### Q9: Implement the weighted k-NN model. Use k(5)-fold method for train-test split"
   ]
  },
  {
   "cell_type": "code",
   "execution_count": 32,
   "metadata": {},
   "outputs": [
    {
     "name": "stdout",
     "output_type": "stream",
     "text": [
      "scores:  [0.86210641 0.89021739 0.90978261 0.90978261 0.74347826]\n",
      "mean score:  0.863073455129113\n"
     ]
    }
   ],
   "source": [
    "knn_cv = KNeighborsClassifier(n_neighbors=3, weights='distance')\n",
    "scores = cross_val_score(knn_cv, X, Y, cv=5, scoring='accuracy')\n",
    "print('scores: ', scores)\n",
    "print('mean score: ', scores.mean())"
   ]
  },
  {
   "cell_type": "markdown",
   "metadata": {},
   "source": [
    "#### Q10: What is the best k value in this model. Take max k =20"
   ]
  },
  {
   "cell_type": "code",
   "execution_count": 33,
   "metadata": {},
   "outputs": [
    {
     "name": "stdout",
     "output_type": "stream",
     "text": [
      "The value of k is 1\n",
      "scores:  [0.86536374 0.8923913  0.91304348 0.90652174 0.75108696]\n",
      "mean score:  0.8656814426662891\n",
      "The value of k is 2\n",
      "scores:  [0.86536374 0.8923913  0.91304348 0.90652174 0.75217391]\n",
      "mean score:  0.8658988339706368\n",
      "The value of k is 3\n",
      "scores:  [0.86210641 0.89021739 0.90978261 0.90978261 0.74347826]\n",
      "mean score:  0.863073455129113\n",
      "The value of k is 4\n",
      "scores:  [0.86319218 0.89347826 0.91630435 0.9173913  0.75652174]\n",
      "mean score:  0.8693775669168673\n",
      "The value of k is 5\n",
      "scores:  [0.8762215  0.8923913  0.91847826 0.90978261 0.76304348]\n",
      "mean score:  0.8719834301090497\n",
      "The value of k is 6\n",
      "scores:  [0.87947883 0.89565217 0.92173913 0.91413043 0.76956522]\n",
      "mean score:  0.8761131567766606\n",
      "The value of k is 7\n",
      "scores:  [0.87513572 0.89456522 0.92826087 0.91413043 0.775     ]\n",
      "mean score:  0.8774184487560779\n",
      "The value of k is 8\n",
      "scores:  [0.86970684 0.89673913 0.925      0.91413043 0.7673913 ]\n",
      "mean score:  0.8745935419912195\n",
      "The value of k is 9\n",
      "scores:  [0.87187839 0.89673913 0.92391304 0.91086957 0.77391304]\n",
      "mean score:  0.8754626351319456\n",
      "The value of k is 10\n",
      "scores:  [0.86862106 0.89456522 0.925      0.91413043 0.76956522]\n",
      "mean score:  0.8743763867252042\n",
      "The value of k is 11\n",
      "scores:  [0.86970684 0.8923913  0.925      0.91521739 0.7673913 ]\n",
      "mean score:  0.8739413680781759\n",
      "The value of k is 12\n",
      "scores:  [0.86319218 0.89347826 0.92173913 0.91847826 0.775     ]\n",
      "mean score:  0.8743775669168674\n",
      "The value of k is 13\n",
      "scores:  [0.86427796 0.89130435 0.92608696 0.91847826 0.76847826]\n",
      "mean score:  0.8737251569654912\n",
      "The value of k is 14\n",
      "scores:  [0.87296417 0.89347826 0.91956522 0.91847826 0.775     ]\n",
      "mean score:  0.8758971817023085\n",
      "The value of k is 15\n",
      "scores:  [0.86644951 0.89456522 0.91630435 0.91630435 0.77391304]\n",
      "mean score:  0.873507293584478\n",
      "The value of k is 16\n",
      "scores:  [0.86862106 0.89891304 0.92065217 0.91956522 0.77282609]\n",
      "mean score:  0.8761155171599867\n",
      "The value of k is 17\n",
      "scores:  [0.86427796 0.89673913 0.91956522 0.91630435 0.76956522]\n",
      "mean score:  0.8732903743567956\n",
      "The value of k is 18\n",
      "scores:  [0.86753529 0.90108696 0.91956522 0.92391304 0.77391304]\n",
      "mean score:  0.8772027097200585\n",
      "The value of k is 19\n",
      "scores:  [0.87296417 0.89565217 0.92282609 0.92065217 0.77608696]\n",
      "mean score:  0.8776363121370911\n",
      "The value of k is 20\n",
      "scores:  [0.87296417 0.89673913 0.92065217 0.92391304 0.77282609]\n",
      "mean score:  0.8774189208327432\n",
      "Best K value:  19\n"
     ]
    }
   ],
   "source": [
    "k_range = list(range(1, 21))\n",
    "k_scores = []\n",
    "for k in k_range:\n",
    "    knn_cv = KNeighborsClassifier(n_neighbors=k, weights='distance')\n",
    "    scores = cross_val_score(knn_cv, X, Y, cv=5, scoring='accuracy')\n",
    "    print(\"The value of k is \"+str(k))\n",
    "    print('scores: ', scores)\n",
    "    print('mean score: ', scores.mean())\n",
    "    k_scores.append(scores.mean())\n",
    "    \n",
    "print('Best K value: ', k_scores.index(max(k_scores))+1)"
   ]
  },
  {
   "cell_type": "code",
   "execution_count": null,
   "metadata": {},
   "outputs": [],
   "source": []
  }
 ],
 "metadata": {
  "kernelspec": {
   "display_name": "Python 3",
   "language": "python",
   "name": "python3"
  },
  "language_info": {
   "codemirror_mode": {
    "name": "ipython",
    "version": 3
   },
   "file_extension": ".py",
   "mimetype": "text/x-python",
   "name": "python",
   "nbconvert_exporter": "python",
   "pygments_lexer": "ipython3",
   "version": "3.8.5"
  }
 },
 "nbformat": 4,
 "nbformat_minor": 2
}
